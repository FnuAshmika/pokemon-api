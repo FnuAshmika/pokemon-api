{
 "cells": [
  {
   "cell_type": "markdown",
   "id": "39b3dc28",
   "metadata": {},
   "source": [
    "# Exercise 1:\n",
    "Create a Method prints an image of your pokemon\n"
   ]
  },
  {
   "cell_type": "markdown",
   "id": "89b2c758",
   "metadata": {},
   "source": [
    "##### HINT: You may need another attribute as well to store your image url within."
   ]
  },
  {
   "cell_type": "code",
   "execution_count": 5,
   "id": "c23cd459",
   "metadata": {},
   "outputs": [],
   "source": [
    "# Exercise 1:\n",
    "# Create a Method prints an image of your pokemon\n",
    "\n",
    "# HINT: You may need another attribute as well to store your image url within\n",
    "\n",
    "# recreate your pokemon class here\n",
    "import requests\n",
    "from IPython.display import Image\n",
    "class Pokemon():\n",
    "    def __init__(self, name):\n",
    "        self.name = name\n",
    "        self.types = None\n",
    "        self.weight = None\n",
    "        self.abilities = None\n",
    "        self.sprite =None\n",
    "        self.poke_api_call()\n",
    "        \n",
    "    def poke_api_call(self):\n",
    "        response = requests.get(f'https://pokeapi.co/api/v2/pokemon/{self.name}/')\n",
    "        if response.status_code == 200:\n",
    "            data = response.json()\n",
    "            self.name = data['name']\n",
    "            types = data['types']\n",
    "            self.types = list(map(lambda x: x['type']['name'],types))\n",
    "            self.weight = data['weight']\n",
    "            abilities = data['abilities']\n",
    "            self.abilities=list(map(lambda x: x['ability']['name'], abilities))\n",
    "            self.sprite = data['sprites']['front_shiny']\n",
    "            self.id = data['id']\n",
    "        else:\n",
    "            print(f'ERROR, STATUS CODE {response.status_code}')\n",
    "            \n",
    "    def display_img(self):\n",
    "            display(Image(self.sprite, width=200)) \n",
    "                       \n",
    "    "
   ]
  },
  {
   "cell_type": "code",
   "execution_count": 6,
   "id": "f39fab8c",
   "metadata": {},
   "outputs": [],
   "source": [
    "# Calling our new method\n",
    "poke = Pokemon('pikachu')\n"
   ]
  },
  {
   "cell_type": "code",
   "execution_count": 7,
   "id": "0fd9c476",
   "metadata": {},
   "outputs": [
    {
     "data": {
      "image/png": "[encoded data removed]",
      "text/plain": [
       "<IPython.core.display.Image object>"
      ]
     },
     "metadata": {
      "image/png": {
       "width": 200
      }
     },
     "output_type": "display_data"
    }
   ],
   "source": [
    "poke.display_img()"
   ]
  },
  {
   "cell_type": "code",
   "execution_count": null,
   "id": "ed167c99",
   "metadata": {},
   "outputs": [],
   "source": []
  },
  {
   "cell_type": "markdown",
   "id": "aa5c4f88",
   "metadata": {},
   "source": [
    "## Exercise 2:"
   ]
  },
  {
   "cell_type": "markdown",
   "id": "effa5de6",
   "metadata": {},
   "source": [
    "### Create a Method that evolves your Pokemon\n",
    "If your pokemon can't evolve any further print a message that says \"\\<name of pokemon> can't evolve.\""
   ]
  },
  {
   "cell_type": "code",
   "execution_count": 38,
   "id": "f52bbb5c",
   "metadata": {},
   "outputs": [],
   "source": [
    "# Create a method for your Pokemon class that takes in user input, \n",
    "# to ask what new pokemon your current pokemon should evolve into."
   ]
  },
  {
   "cell_type": "code",
   "execution_count": 39,
   "id": "42cfaed9",
   "metadata": {},
   "outputs": [
    {
     "name": "stdout",
     "output_type": "stream",
     "text": [
      "Pikachu can't evolve.\n"
     ]
    }
   ],
   "source": [
    "# Create a method\n",
    "# Take in user input, should be a pokemons name\n",
    "# Update the current pokemon's attributes (their height, weight, sprite, etc.) to the new pokemon's values"
   ]
  },
  {
   "cell_type": "code",
   "execution_count": 8,
   "id": "db97e48c",
   "metadata": {},
   "outputs": [],
   "source": [
    "import requests\n",
    "from IPython.display import Image\n",
    "class Pokemon():\n",
    "    def __init__(self, name):\n",
    "        self.name = name\n",
    "        self.types = None\n",
    "        self.weight = None\n",
    "        self.abilities = None\n",
    "        self.sprite =None\n",
    "        self.poke_api_call()\n",
    "        \n",
    "    def poke_api_call(self):\n",
    "        response = requests.get(f'https://pokeapi.co/api/v2/pokemon/{self.name}/')\n",
    "        if response.status_code == 200:\n",
    "            data = response.json()\n",
    "            self.name = data['name']\n",
    "            types = data['types']\n",
    "            self.types = list(map(lambda x: x['type']['name'],types))\n",
    "            self.weight = data['weight']\n",
    "            abilities = data['abilities']\n",
    "            self.abilities=list(map(lambda x: x['ability']['name'], abilities))\n",
    "            self.sprite = data['sprites']['front_shiny']\n",
    "            self.id = data['id']\n",
    "        else:\n",
    "            print(f'ERROR, STATUS CODE {response.status_code}')\n",
    "            \n",
    "    def display_img(self):\n",
    "            display(Image(self.sprite, width=200)) \n",
    "            \n",
    "# Exercise 2:\n",
    "# Create a Method that evolves your Pokemon\n",
    "# If your pokemon can't evolve any further print a message that says \"<name of pokemon> can't evolve.\"\n",
    "            \n",
    "    def evolve(self,new_name):\n",
    "        self.new_name = new_name\n",
    "        print(f'Your pokemon was: {self.name.title()}')\n",
    "        response = requests.get(f'https://pokeapi.co/api/v2/pokemon/{self.new_name}/')\n",
    "        if response.status_code != 200:\n",
    "            print(f'ERROR, STATUS CODE {response.status_code}')\n",
    "        elif self.name != self.new_name and self.id != self.new_name: \n",
    "            self.name = new_name\n",
    "            self.poke_api_call()\n",
    "            self.display_img()\n",
    "            print(f'Your pokemon ivolved into {self.name.title()}')\n",
    "            print(f'Type: {self.types}\\nWeight: {self.weight}\\nAbilities: {self.abilities}')\n",
    "        else:\n",
    "            print(f\"{self.name.title()} can't evolve.\")\n",
    "\n",
    "\n",
    "            \n",
    "            \n",
    "            "
   ]
  },
  {
   "cell_type": "code",
   "execution_count": 9,
   "id": "641869bc",
   "metadata": {},
   "outputs": [],
   "source": [
    "poke = Pokemon('pikachu')"
   ]
  },
  {
   "cell_type": "code",
   "execution_count": 10,
   "id": "a748b305",
   "metadata": {},
   "outputs": [
    {
     "data": {
      "image/png": "[encoded data removed]",
      "text/plain": [
       "<IPython.core.display.Image object>"
      ]
     },
     "metadata": {
      "image/png": {
       "width": 200
      }
     },
     "output_type": "display_data"
    }
   ],
   "source": [
    "poke.display_img()"
   ]
  },
  {
   "cell_type": "code",
   "execution_count": 12,
   "id": "cfb63a3c",
   "metadata": {},
   "outputs": [
    {
     "name": "stdout",
     "output_type": "stream",
     "text": [
      "Your pokemon was: Pikachu\n"
     ]
    },
    {
     "data": {
      "image/png": "[encoded data removed]",
      "text/plain": [
       "<IPython.core.display.Image object>"
      ]
     },
     "metadata": {
      "image/png": {
       "width": 200
      }
     },
     "output_type": "display_data"
    },
    {
     "name": "stdout",
     "output_type": "stream",
     "text": [
      "Your pokemon ivolved into Raichu\n",
      "Type: ['electric']\n",
      "Weight: 300\n",
      "Abilities: ['static', 'lightning-rod']\n"
     ]
    }
   ],
   "source": [
    "poke.evolve('raichu')"
   ]
  },
  {
   "cell_type": "code",
   "execution_count": null,
   "id": "66c0def9",
   "metadata": {},
   "outputs": [],
   "source": []
  },
  {
   "cell_type": "markdown",
   "id": "a257453d",
   "metadata": {},
   "source": [
    "#  Final Exercise (Optional): <br> <br>Create a Move_Tutor Class that will allow the Pokemon Class to inherit a move list.\n",
    "<br>\n",
    "<p>for an added bonus you can make sure that if a pokemon has 4 moves the user can choose one of them to replace with a new move. </p>"
   ]
  },
  {
   "cell_type": "code",
   "execution_count": 31,
   "id": "8fdf4e60",
   "metadata": {},
   "outputs": [],
   "source": [
    "import requests\n",
    "from IPython.display import Image\n",
    "class Move_Tutor():\n",
    "    def __init__(self):\n",
    "        self.move_list = []\n",
    "        \n",
    "    def teach_move(self):\n",
    "        input_move = input(\"Which move do you want to add?: \")\n",
    "        if input_move in self.move_list:\n",
    "            print(f'{input_move} already exist.')\n",
    "        elif len(self.move_list) < 4:\n",
    "            self.move_list.append(input_move)\n",
    "            print(f'{input_move} added to {self.name} list')\n",
    "        else:\n",
    "            print(f\"{self.name} already has 4 moves.\")\n",
    "            choice = input(\"Do you want to replace a move? (y/n)\").lower()\n",
    "            if choice == \"y\":\n",
    "                for move in self.move_list:\n",
    "                    print(move)\n",
    "                replace = input(\"Enter the move you want to replace: \")\n",
    "                if replace in self.move_list:\n",
    "                    self.move_list.remove(replace)\n",
    "                    self.move_list.append(input_move)\n",
    "                    print(f'{replace} replaced with {input_move}')\n",
    "            else:\n",
    "                print(f'{replace} is not in the list.')\n",
    "                print(show_moves())\n",
    "        \n",
    "    def show_moves(self):\n",
    "        print(f'Your pokemon knows: {self.move_list}' )\n",
    "        \n",
    "class Pokemon(Move_Tutor):\n",
    "    def __init__(self, name):\n",
    "        self.name = name\n",
    "        self.types = None\n",
    "        self.weight = None\n",
    "        self.abilities = None\n",
    "        self.sprite =None\n",
    "        self.moves= None\n",
    "        self.move_list = []\n",
    "        self.poke_api_call()\n",
    "        \n",
    "    def poke_api_call(self):\n",
    "        response = requests.get(f'https://pokeapi.co/api/v2/pokemon/{self.name}/')\n",
    "        if response.status_code == 200:\n",
    "            data = response.json()\n",
    "            self.name = data['name']\n",
    "            types = data['types']\n",
    "            self.types = list(map(lambda x: x['type']['name'],types))\n",
    "            self.weight = data['weight']\n",
    "            abilities = data['abilities']\n",
    "            self.abilities=list(map(lambda x: x['ability']['name'], abilities))\n",
    "            moves = data['moves']\n",
    "            self.moves =list(map(lambda x: x['move']['name'], moves))\n",
    "            self.sprite = data['sprites']['front_shiny']\n",
    "            self.id = data['id']\n",
    "        else:\n",
    "            print(f'ERROR, STATUS CODE {response.status_code}')\n",
    "            \n",
    "    def available_moves(self):\n",
    "        for move in self.moves:\n",
    "            print(move)\n",
    "                    "
   ]
  },
  {
   "cell_type": "code",
   "execution_count": 33,
   "id": "b06b14b8",
   "metadata": {},
   "outputs": [],
   "source": [
    "pikachu = Pokemon('bulbasaur')"
   ]
  },
  {
   "cell_type": "code",
   "execution_count": 35,
   "id": "8e2d5425",
   "metadata": {},
   "outputs": [
    {
     "name": "stdout",
     "output_type": "stream",
     "text": [
      "razor-wind\n",
      "swords-dance\n",
      "cut\n",
      "bind\n",
      "vine-whip\n",
      "headbutt\n",
      "tackle\n",
      "body-slam\n",
      "take-down\n",
      "double-edge\n",
      "growl\n",
      "strength\n",
      "mega-drain\n",
      "leech-seed\n",
      "growth\n",
      "razor-leaf\n",
      "solar-beam\n",
      "poison-powder\n",
      "sleep-powder\n",
      "petal-dance\n",
      "string-shot\n",
      "toxic\n",
      "rage\n",
      "mimic\n",
      "double-team\n",
      "defense-curl\n",
      "light-screen\n",
      "reflect\n",
      "bide\n",
      "sludge\n",
      "skull-bash\n",
      "amnesia\n",
      "flash\n",
      "rest\n",
      "substitute\n",
      "snore\n",
      "curse\n",
      "protect\n",
      "sludge-bomb\n",
      "mud-slap\n",
      "outrage\n",
      "giga-drain\n",
      "endure\n",
      "charm\n",
      "false-swipe\n",
      "swagger\n",
      "fury-cutter\n",
      "attract\n",
      "sleep-talk\n",
      "return\n",
      "frustration\n",
      "safeguard\n",
      "sweet-scent\n",
      "synthesis\n",
      "hidden-power\n",
      "sunny-day\n",
      "rock-smash\n",
      "facade\n",
      "nature-power\n",
      "helping-hand\n",
      "ingrain\n",
      "knock-off\n",
      "secret-power\n",
      "weather-ball\n",
      "grass-whistle\n",
      "bullet-seed\n",
      "magical-leaf\n",
      "natural-gift\n",
      "worry-seed\n",
      "seed-bomb\n",
      "energy-ball\n",
      "leaf-storm\n",
      "power-whip\n",
      "captivate\n",
      "grass-knot\n",
      "venoshock\n",
      "round\n",
      "echoed-voice\n",
      "grass-pledge\n",
      "work-up\n",
      "grassy-terrain\n",
      "confide\n",
      "grassy-glide\n"
     ]
    }
   ],
   "source": [
    "pikachu.available_moves()"
   ]
  },
  {
   "cell_type": "code",
   "execution_count": 34,
   "id": "6a288126",
   "metadata": {},
   "outputs": [
    {
     "name": "stdout",
     "output_type": "stream",
     "text": [
      "Which move do you want to add?: bl\n",
      "bl added to bulbasaur list\n"
     ]
    }
   ],
   "source": [
    "pikachu.teach_move()"
   ]
  },
  {
   "cell_type": "code",
   "execution_count": 27,
   "id": "108c6c3d",
   "metadata": {},
   "outputs": [
    {
     "name": "stdout",
     "output_type": "stream",
     "text": [
      "Your pokemon knows: ['flower']\n"
     ]
    }
   ],
   "source": [
    "pikachu.show_moves()"
   ]
  },
  {
   "cell_type": "code",
   "execution_count": null,
   "id": "a6e259f6",
   "metadata": {},
   "outputs": [],
   "source": []
  }
 ],
 "metadata": {
  "kernelspec": {
   "display_name": "Python 3 (ipykernel)",
   "language": "python",
   "name": "python3"
  },
  "language_info": {
   "codemirror_mode": {
    "name": "ipython",
    "version": 3
   },
   "file_extension": ".py",
   "mimetype": "text/x-python",
   "name": "python",
   "nbconvert_exporter": "python",
   "pygments_lexer": "ipython3",
   "version": "3.9.13"
  }
 },
 "nbformat": 4,
 "nbformat_minor": 5
}
